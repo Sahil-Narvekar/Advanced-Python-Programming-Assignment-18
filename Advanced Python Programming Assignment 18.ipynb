{
 "cells": [
  {
   "cell_type": "code",
   "execution_count": null,
   "metadata": {},
   "outputs": [],
   "source": [
    "1. A robot has been given a list of movement instructions. Each instruction is either left, right, up or\n",
    "down, followed by a distance to move. The robot starts at [0, 0]. You want to calculate where the robot\n",
    "will end up and return its final position as a list.\n",
    "\n",
    "To illustrate, if the robot is given the following instructions:\n",
    "\n",
    "[\"right 10\", \"up 50\", \"left 30\", \"down 10\"]\n",
    "\n",
    "It will end up 20 left and 40 up from where it started, so we return [-20, 40].\n",
    "\n",
    "Examples\n",
    "\n",
    "track_robot([\"right 10\", \"up 50\", \"left 30\", \"down 10\"]) ➞ [-20, 40]\n",
    "\n",
    "track_robot([]) ➞ [0, 0]\n",
    "// If there are no instructions, the robot doesn't move.\n",
    "\n",
    "track_robot([\"right 100\", \"right 100\", \"up 500\", \"up 10000\", \"left 400\"]) ➞ [200, 10500]\n"
   ]
  },
  {
   "cell_type": "code",
   "execution_count": 35,
   "metadata": {},
   "outputs": [
    {
     "name": "stdout",
     "output_type": "stream",
     "text": [
      "Enter the commands\"right 100\", \"right 100\", \"up 500\", \"up 10000\", \"left 400\"\n"
     ]
    },
    {
     "data": {
      "text/plain": [
       "[200, 10500]"
      ]
     },
     "execution_count": 35,
     "metadata": {},
     "output_type": "execute_result"
    }
   ],
   "source": [
    "d=input('Enter the commands')\n",
    "def track_robot(d):\n",
    "    if len(d)==0:\n",
    "        return [0,0]\n",
    "    d=d.replace('\"','').split(', ')\n",
    "    m={'right': 0,'left': 0,'up': 0,'down': 0}\n",
    "    z=[]\n",
    "    for i in d:\n",
    "        x,y=i.split(' ')\n",
    "        m[x]=m[x]+int(y)\n",
    "    z.append(m['left']-m['right'])\n",
    "    z.append(m['up']-m['down'])\n",
    "    return(z)\n",
    "track_robot(d)"
   ]
  },
  {
   "cell_type": "code",
   "execution_count": null,
   "metadata": {},
   "outputs": [],
   "source": [
    "2. Write a function that will return the longest word in a sentence. In cases where more than one word is\n",
    "found, return the first one.\n",
    "\n",
    "Examples\n",
    "\n",
    "find_longest(\"A thing of beauty is a joy forever.\") ➞ \"forever\"\n",
    "\n",
    "find_longest(\" Forgetfulness is by all means powerless!\") ➞ \"forgetfulness\"\n",
    "\n",
    "find_longest(\"\\\"Strengths\\\" is the longest and most commonly used word that contains only a single vowel.\") ➞ \"strengths\"\n"
   ]
  },
  {
   "cell_type": "code",
   "execution_count": 2,
   "metadata": {},
   "outputs": [
    {
     "name": "stdout",
     "output_type": "stream",
     "text": [
      "Enter the string\\\"Strengths\\\" is the longest and most commonly used word that contains only a single vowel.\n"
     ]
    },
    {
     "data": {
      "text/plain": [
       "'strengths'"
      ]
     },
     "execution_count": 2,
     "metadata": {},
     "output_type": "execute_result"
    }
   ],
   "source": [
    "\n",
    "a=input('Enter the string')\n",
    "def find_longest(a):\n",
    "    a=a.split(' ')\n",
    "    z=dict()\n",
    "    for i in a:\n",
    "        for j in i:\n",
    "            if not j.isalnum():\n",
    "                i=i.replace(j,'')\n",
    "        z[i]=len(i)\n",
    "    x=max(z,key=z.get)\n",
    "    return( x.lower())\n",
    "find_longest(a)"
   ]
  },
  {
   "cell_type": "code",
   "execution_count": null,
   "metadata": {},
   "outputs": [],
   "source": [
    "3. Create a function to check if a candidate is qualified in an imaginary coding interview of an imaginary tech startup.\n",
    "\n",
    "The criteria for a candidate to be qualified in the coding interview is:\n",
    "\n",
    "   1. The candidate should have complete all the questions.\n",
    "   2. The maximum time given to complete the interview is 120 minutes.\n",
    "   3. The maximum time given for very easy questions is 5 minutes each.\n",
    "   4. The maximum time given for easy questions is 10 minutes each.\n",
    "   5. The maximum time given for medium questions is 15 minutes each.\n",
    "   6. The maximum time given for hard questions is 20 minutes each.\n",
    "\n",
    "If all the above conditions are satisfied, return \"qualified\", else return \"disqualified\".\n",
    "\n",
    "You will be given a list of time taken by a candidate to solve a particular question and the total time taken by the candidate to complete the interview.\n",
    "\n",
    "Given a list , in a true condition will always be in the format [very easy, very easy, easy, easy, medium, medium, hard, hard].\n",
    "\n",
    "The maximum time to complete the interview includes a buffer time of 20 minutes.\n",
    "\n",
    "Examples\n",
    "\n",
    "interview([5, 5, 10, 10, 15, 15, 20, 20], 120) ➞ \"qualified\"\n",
    "\n",
    "interview([2, 3, 8, 6, 5, 12, 10, 18], 64) ➞  \"qualified\"\n",
    "\n",
    "interview([5, 5, 10, 10, 25, 15, 20, 20], 120) ➞ \"disqualified\"\n",
    "# Exceeded the time limit for a medium question.\n",
    "\n",
    "interview([5, 5, 10, 10, 15, 15, 20], 120) ➞ \"disqualified\"\n",
    "# Did not complete all the questions.\n",
    "\n",
    "interview([5, 5, 10, 10, 15, 15, 20, 20], 130) ➞ \"disqualified\"\n",
    "# Solved all the questions in their respected time limits but exceeded the total time limit of the interview.\n"
   ]
  },
  {
   "cell_type": "code",
   "execution_count": 35,
   "metadata": {},
   "outputs": [
    {
     "name": "stdout",
     "output_type": "stream",
     "text": [
      "ENter the list of timings 5, 5, 10, 10, 15, 15, 20\n",
      "Enter the total time 120\n"
     ]
    },
    {
     "data": {
      "text/plain": [
       "'disqualified'"
      ]
     },
     "execution_count": 35,
     "metadata": {},
     "output_type": "execute_result"
    }
   ],
   "source": [
    "def interview(a,b):\n",
    "    if len(a)<8 or b>120:\n",
    "        return('disqualified')\n",
    "    z,j,i=[],0,0\n",
    "    while i<=6:\n",
    "        z.append(j+5)\n",
    "        z.append(j+5)\n",
    "        i+=2\n",
    "        j+=5\n",
    "    for i in range(len(a)):\n",
    "        if a[i]>z[i]:\n",
    "            return('disqualified')\n",
    "        elif i==len(a)-1 and a[i]<=z[i]:\n",
    "            return('qualified')\n",
    "x=input('Enter the list of timings ').split(',')  \n",
    "x=[int(i) for i in x]\n",
    "b=int(input(\"Enter the total time \"))\n",
    "interview(x,b)"
   ]
  },
  {
   "cell_type": "code",
   "execution_count": null,
   "metadata": {},
   "outputs": [],
   "source": [
    "4. Write a function that divides a list into chunks of size n, where n is the length of each chunk.\n",
    "\n",
    "Examples\n",
    "\n",
    "chunkify([2, 3, 4, 5], 2) ➞ [[2, 3], [4, 5]]\n",
    "\n",
    "chunkify([2, 3, 4, 5, 6], 2) ➞ [[2, 3], [4, 5], [6]]\n",
    "\n",
    "chunkify([2, 3, 4, 5, 6, 7], 3) ➞ [[2, 3, 4], [5, 6, 7]]\n",
    "\n",
    "chunkify([2, 3, 4, 5, 6, 7], 1) ➞ [[2], [3], [4], [5], [6], [7]]\n",
    "\n",
    "chunkify([2, 3, 4, 5, 6, 7], 7) ➞ [[2, 3, 4, 5, 6, 7]]\n"
   ]
  },
  {
   "cell_type": "code",
   "execution_count": 60,
   "metadata": {},
   "outputs": [
    {
     "data": {
      "text/plain": [
       "{1: 2, 2: 3, 3: 4}"
      ]
     },
     "execution_count": 60,
     "metadata": {},
     "output_type": "execute_result"
    }
   ],
   "source": [
    "a=[2, 3, 4, 5, 6, 7]\n",
    "c=3\n",
    "y=dict()\n",
    "l=[]\n",
    "r=int(len(a)/c)\n",
    "for i in range(c):\n",
    "    for j in range(r):\n",
    "        l.append(a[j+i])\n",
    "    y[i+j]=a[j*i]\n",
    "y"
   ]
  },
  {
   "cell_type": "code",
   "execution_count": null,
   "metadata": {},
   "outputs": [],
   "source": [
    "5. You are given a list of strings consisting of grocery items, with prices in parentheses. Return a list of prices in float format.\n",
    "\n",
    "Examples\n",
    "\n",
    "get_prices([\"salad ($4.99)\"]) ➞ [4.99]\n",
    "\n",
    "get_prices([\n",
    "  \"artichokes ($1.99)\",\n",
    "  \"rotiserrie chicken ($5.99)\",\n",
    "  \"gum ($0.75)\"\n",
    "])\n",
    "\n",
    "➞ [1.99, 5.99, 0.75]\n",
    "\n",
    "get_prices([\n",
    "  \"ice cream ($5.99)\",\n",
    "  \"banana ($0.20)\",\n",
    "  \"sandwich ($8.50)\",\n",
    "  \"soup ($1.99)\"\n",
    "])\n",
    "\n",
    "➞ [5.99, 0.2, 8.50, 1.99]"
   ]
  },
  {
   "cell_type": "code",
   "execution_count": 106,
   "metadata": {},
   "outputs": [
    {
     "name": "stdout",
     "output_type": "stream",
     "text": [
      "Enter items and their price \"ice cream ($5.99)\",   \"banana ($0.20)\",   \"sandwich ($8.50)\",   \"soup ($1.99)\"\n"
     ]
    },
    {
     "data": {
      "text/plain": [
       "[5.99, 0.2, 8.5, 1.99]"
      ]
     },
     "execution_count": 106,
     "metadata": {},
     "output_type": "execute_result"
    }
   ],
   "source": [
    "a=input('Enter items and their price ')\n",
    "def get_prices(a):\n",
    "    a=a.replace(')','').replace('\"','')\n",
    "    a=a.split(',')\n",
    "    g=[]\n",
    "    for i in a:\n",
    "        i=i.split('$')\n",
    "        g.append(float(i[-1]))\n",
    "    return g\n",
    "get_prices(a)"
   ]
  },
  {
   "cell_type": "code",
   "execution_count": null,
   "metadata": {},
   "outputs": [],
   "source": []
  }
 ],
 "metadata": {
  "kernelspec": {
   "display_name": "Python 3",
   "language": "python",
   "name": "python3"
  },
  "language_info": {
   "codemirror_mode": {
    "name": "ipython",
    "version": 3
   },
   "file_extension": ".py",
   "mimetype": "text/x-python",
   "name": "python",
   "nbconvert_exporter": "python",
   "pygments_lexer": "ipython3",
   "version": "3.8.3"
  }
 },
 "nbformat": 4,
 "nbformat_minor": 4
}
